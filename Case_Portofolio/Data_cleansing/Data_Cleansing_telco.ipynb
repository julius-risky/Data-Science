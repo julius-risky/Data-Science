{
 "cells": [
  {
   "cell_type": "markdown",
   "metadata": {},
   "source": [
    "Dalam dunia industri tidak heran jika kita sering menjumpai data yang sangat banyak dan terus meningkat seiring berjalannya waktu, seperti *e-commerce*, *e-government*, media elektronik dan sebagainya menghasilkan  data yang sangat besar hingga Gigabyte(Gb) bahkan bisa lebih, pada umumnya data yang dihasilkan memiliki derau/noise, tidak lengkap, dan tidak konsisten karena diperoleh dari berbagai  sumber yang berbeda.<br>\n",
    "\n",
    "  Maka dari itu perlu dilakukan preprocessing data sebelum melakukan proses data mining, atau pemodelan. menurut Suyanto, D. (2017) terdapat tiga tujuan preprocessing data yaitu: \n",
    " 1. untuk mempermudah memahami data sehingga mempermudah dalam pemilihan teknik dan metode data mining atau machine learning\n",
    " 2. untuk meningkatkan kualitas data sehingga hasil data mining menjadi lebih baik\n",
    " 3. untuk meningkatkan efisiensi dan kemudahan dalam pembentukan model data mining atau machine learning\n",
    " \n",
    "Data preprocessing bisa dilakuan dengan Pembersihan atau data cleansing, integrasi, reduksi, penambahan data, dan transformasi.<br>\n",
    "\n",
    "Pada kesempatan kali ini saya akan membahas mengenai salah satu teknik data preprocessing yaitu data cleansing, karena waktu yang dibutuhkan oled data science dalam data cleansing lebih banyak dari pada proses pemodelan dan analisa. **Data Cleansing** atau Pembersihan data merupakan proses menghilang-kan noise dan data yang tidak konsisten atau data tidak relevan.\n",
    "\n",
    "Data yang akan saya gunakan dalam artikel ini adalah data dari DQLab Telco data dapat unduh dilaman berikut https://dqlab-dataset.s3-ap-southeast-1.amazonaws.com/dqlab_telco.csv. DQLab Telco merupakan perusahaan Telco yang sudah mempunyai banyak cabang tersebar dimana-mana. Sejak berdiri pada tahun 2019, DQLab Telco konsisten untuk memperhatikan customer experience nya sehingga tidak akan di tinggalkan pelanggan. langkah data cleansing yang akan dilakukan adalah\n",
    "\n",
    "1. Mencari ID pelanggan (Nomor telphone) yang valid\n",
    "2. Mengatasi data-data yang masih kosong (Missing Values)\n",
    "3. Mengatasi Nilai-Nilai Pencilan (Outlier) dari setiap Variable\n",
    "4. Menstandarisasi Nilai dari Variable\n",
    "\n",
    "pada artikel ini saya tidak hanya akan mengikuti sesuai arahan course di dqlab akan tetapi akan saya gabungkan dengan beberapa hal yang telah saya pelajari dari berbagai sumber belajar. <br>\n",
    "\n",
    "sekarang hal pertama yang akan kita lakukan adalah melakukan import library dan dataset ke dalam workspace kita."
   ]
  },
  {
   "cell_type": "markdown",
   "metadata": {},
   "source": [
    "### Import Library"
   ]
  },
  {
   "cell_type": "code",
   "execution_count": 1,
   "metadata": {},
   "outputs": [],
   "source": [
    "import pandas as pd\n",
    "import numpy as np\n",
    "import matplotlib.pyplot as plt\n",
    "import seaborn as sns\n",
    "\n",
    "from jcopml.plot import plot_missing_value\n",
    "pd.options.display.max_columns=50"
   ]
  },
  {
   "cell_type": "markdown",
   "metadata": {},
   "source": [
    "**NumPy** (Numerical Python) adalah library Python yang fokus pada scientific computing. NumPy memiliki kemampuan untuk membentuk objek N-dimensional array, yang mirip dengan list pada Python. Keunggulan NumPy array dibandingkan dengan list pada Python adalah konsumsi memory yang lebih kecil serta runtime yang lebih cepat. NumPy juga memudahkan kita pada Aljabar Linear, terutama operasi pada Vector (1-d array) dan Matrix (2-d array).\n",
    "\n",
    "**Pandas** Pandas (Python for Data Analysis) adalah library Python yang fokus untuk proses analisis data seperti manipulasi data, persiapan data, dan pembersihan data. Pandas menyediakan struktur data dan fungsi high-level untuk membuat pekerjaan dengan data terstruktur/tabular lebih cepat, mudah, dan ekspresif.\n",
    "\n",
    "**jcopml** merupakan package yang dibuat oleh Wira Dharma Kencana Putra, package ini mencakup fungsi untuk membantu visualisasi, tuning, pipeline, dan feature importance. Dalam penelitian ini saya menggunakan fungsi `plot_missing_plot_missing_value()` untuk membantu saya dalam mendeteksi missing value dari data"
   ]
  },
  {
   "cell_type": "markdown",
   "metadata": {},
   "source": [
    "# Import Data"
   ]
  },
  {
   "cell_type": "code",
   "execution_count": 2,
   "metadata": {},
   "outputs": [
    {
     "data": {
      "text/html": [
       "<div>\n",
       "<style scoped>\n",
       "    .dataframe tbody tr th:only-of-type {\n",
       "        vertical-align: middle;\n",
       "    }\n",
       "\n",
       "    .dataframe tbody tr th {\n",
       "        vertical-align: top;\n",
       "    }\n",
       "\n",
       "    .dataframe thead th {\n",
       "        text-align: right;\n",
       "    }\n",
       "</style>\n",
       "<table border=\"1\" class=\"dataframe\">\n",
       "  <thead>\n",
       "    <tr style=\"text-align: right;\">\n",
       "      <th></th>\n",
       "      <th>UpdatedAt</th>\n",
       "      <th>customerID</th>\n",
       "      <th>gender</th>\n",
       "      <th>SeniorCitizen</th>\n",
       "      <th>Partner</th>\n",
       "      <th>Dependents</th>\n",
       "      <th>tenure</th>\n",
       "      <th>PhoneService</th>\n",
       "      <th>MultipleLines</th>\n",
       "      <th>InternetService</th>\n",
       "      <th>OnlineSecurity</th>\n",
       "      <th>OnlineBackup</th>\n",
       "      <th>DeviceProtection</th>\n",
       "      <th>TechSupport</th>\n",
       "      <th>StreamingTV</th>\n",
       "      <th>StreamingMovies</th>\n",
       "      <th>Contract</th>\n",
       "      <th>PaperlessBilling</th>\n",
       "      <th>PaymentMethod</th>\n",
       "      <th>MonthlyCharges</th>\n",
       "      <th>TotalCharges</th>\n",
       "      <th>Churn</th>\n",
       "    </tr>\n",
       "  </thead>\n",
       "  <tbody>\n",
       "    <tr>\n",
       "      <th>0</th>\n",
       "      <td>202006</td>\n",
       "      <td>45759018157</td>\n",
       "      <td>Female</td>\n",
       "      <td>0</td>\n",
       "      <td>Yes</td>\n",
       "      <td>No</td>\n",
       "      <td>1.0</td>\n",
       "      <td>No</td>\n",
       "      <td>No phone service</td>\n",
       "      <td>DSL</td>\n",
       "      <td>No</td>\n",
       "      <td>Yes</td>\n",
       "      <td>No</td>\n",
       "      <td>No</td>\n",
       "      <td>No</td>\n",
       "      <td>No</td>\n",
       "      <td>Month-to-month</td>\n",
       "      <td>Yes</td>\n",
       "      <td>Electronic check</td>\n",
       "      <td>29.85</td>\n",
       "      <td>29.85</td>\n",
       "      <td>No</td>\n",
       "    </tr>\n",
       "    <tr>\n",
       "      <th>1</th>\n",
       "      <td>202006</td>\n",
       "      <td>45557574145</td>\n",
       "      <td>Male</td>\n",
       "      <td>0</td>\n",
       "      <td>No</td>\n",
       "      <td>No</td>\n",
       "      <td>34.0</td>\n",
       "      <td>Yes</td>\n",
       "      <td>No</td>\n",
       "      <td>DSL</td>\n",
       "      <td>Yes</td>\n",
       "      <td>No</td>\n",
       "      <td>Yes</td>\n",
       "      <td>No</td>\n",
       "      <td>No</td>\n",
       "      <td>No</td>\n",
       "      <td>One year</td>\n",
       "      <td>No</td>\n",
       "      <td>Mailed check</td>\n",
       "      <td>56.95</td>\n",
       "      <td>1889.50</td>\n",
       "      <td>No</td>\n",
       "    </tr>\n",
       "    <tr>\n",
       "      <th>2</th>\n",
       "      <td>202006</td>\n",
       "      <td>45366876421</td>\n",
       "      <td>Male</td>\n",
       "      <td>0</td>\n",
       "      <td>No</td>\n",
       "      <td>No</td>\n",
       "      <td>2.0</td>\n",
       "      <td>Yes</td>\n",
       "      <td>No</td>\n",
       "      <td>DSL</td>\n",
       "      <td>Yes</td>\n",
       "      <td>Yes</td>\n",
       "      <td>No</td>\n",
       "      <td>No</td>\n",
       "      <td>No</td>\n",
       "      <td>No</td>\n",
       "      <td>Month-to-month</td>\n",
       "      <td>Yes</td>\n",
       "      <td>Mailed check</td>\n",
       "      <td>53.85</td>\n",
       "      <td>108.15</td>\n",
       "      <td>Yes</td>\n",
       "    </tr>\n",
       "    <tr>\n",
       "      <th>3</th>\n",
       "      <td>202006</td>\n",
       "      <td>45779536532</td>\n",
       "      <td>Male</td>\n",
       "      <td>0</td>\n",
       "      <td>No</td>\n",
       "      <td>No</td>\n",
       "      <td>45.0</td>\n",
       "      <td>No</td>\n",
       "      <td>No phone service</td>\n",
       "      <td>DSL</td>\n",
       "      <td>Yes</td>\n",
       "      <td>No</td>\n",
       "      <td>Yes</td>\n",
       "      <td>Yes</td>\n",
       "      <td>No</td>\n",
       "      <td>No</td>\n",
       "      <td>One year</td>\n",
       "      <td>No</td>\n",
       "      <td>Bank transfer (automatic)</td>\n",
       "      <td>42.30</td>\n",
       "      <td>1840.75</td>\n",
       "      <td>No</td>\n",
       "    </tr>\n",
       "    <tr>\n",
       "      <th>4</th>\n",
       "      <td>202006</td>\n",
       "      <td>45923787906</td>\n",
       "      <td>Female</td>\n",
       "      <td>0</td>\n",
       "      <td>No</td>\n",
       "      <td>No</td>\n",
       "      <td>2.0</td>\n",
       "      <td>Yes</td>\n",
       "      <td>No</td>\n",
       "      <td>Fiber optic</td>\n",
       "      <td>No</td>\n",
       "      <td>No</td>\n",
       "      <td>No</td>\n",
       "      <td>No</td>\n",
       "      <td>No</td>\n",
       "      <td>No</td>\n",
       "      <td>Month-to-month</td>\n",
       "      <td>Yes</td>\n",
       "      <td>Electronic check</td>\n",
       "      <td>70.70</td>\n",
       "      <td>151.65</td>\n",
       "      <td>Yes</td>\n",
       "    </tr>\n",
       "  </tbody>\n",
       "</table>\n",
       "</div>"
      ],
      "text/plain": [
       "   UpdatedAt   customerID  gender  SeniorCitizen Partner Dependents  tenure  \\\n",
       "0     202006  45759018157  Female              0     Yes         No     1.0   \n",
       "1     202006  45557574145    Male              0      No         No    34.0   \n",
       "2     202006  45366876421    Male              0      No         No     2.0   \n",
       "3     202006  45779536532    Male              0      No         No    45.0   \n",
       "4     202006  45923787906  Female              0      No         No     2.0   \n",
       "\n",
       "  PhoneService     MultipleLines InternetService OnlineSecurity OnlineBackup  \\\n",
       "0           No  No phone service             DSL             No          Yes   \n",
       "1          Yes                No             DSL            Yes           No   \n",
       "2          Yes                No             DSL            Yes          Yes   \n",
       "3           No  No phone service             DSL            Yes           No   \n",
       "4          Yes                No     Fiber optic             No           No   \n",
       "\n",
       "  DeviceProtection TechSupport StreamingTV StreamingMovies        Contract  \\\n",
       "0               No          No          No              No  Month-to-month   \n",
       "1              Yes          No          No              No        One year   \n",
       "2               No          No          No              No  Month-to-month   \n",
       "3              Yes         Yes          No              No        One year   \n",
       "4               No          No          No              No  Month-to-month   \n",
       "\n",
       "  PaperlessBilling              PaymentMethod  MonthlyCharges  TotalCharges  \\\n",
       "0              Yes           Electronic check           29.85         29.85   \n",
       "1               No               Mailed check           56.95       1889.50   \n",
       "2              Yes               Mailed check           53.85        108.15   \n",
       "3               No  Bank transfer (automatic)           42.30       1840.75   \n",
       "4              Yes           Electronic check           70.70        151.65   \n",
       "\n",
       "  Churn  \n",
       "0    No  \n",
       "1    No  \n",
       "2   Yes  \n",
       "3    No  \n",
       "4   Yes  "
      ]
     },
     "execution_count": 2,
     "metadata": {},
     "output_type": "execute_result"
    }
   ],
   "source": [
    "df = pd.read_csv(\"https://dqlab-dataset.s3-ap-southeast-1.amazonaws.com/dqlab_telco.csv\")\n",
    "df.head()"
   ]
  },
  {
   "cell_type": "code",
   "execution_count": 3,
   "metadata": {},
   "outputs": [
    {
     "data": {
      "text/plain": [
       "Index(['UpdatedAt', 'customerID', 'gender', 'SeniorCitizen', 'Partner',\n",
       "       'Dependents', 'tenure', 'PhoneService', 'MultipleLines',\n",
       "       'InternetService', 'OnlineSecurity', 'OnlineBackup', 'DeviceProtection',\n",
       "       'TechSupport', 'StreamingTV', 'StreamingMovies', 'Contract',\n",
       "       'PaperlessBilling', 'PaymentMethod', 'MonthlyCharges', 'TotalCharges',\n",
       "       'Churn'],\n",
       "      dtype='object')"
      ]
     },
     "execution_count": 3,
     "metadata": {},
     "output_type": "execute_result"
    }
   ],
   "source": [
    "df.columns"
   ]
  },
  {
   "cell_type": "markdown",
   "metadata": {},
   "source": [
    "### Nomenklatur data\n",
    "\n",
    "\n",
    "- `UpdatedAt` Periode Data diambil\n",
    "- `customerID` Customer ID\n",
    "- `gender` Berisikan gender dari customer (Male, Female)\n",
    "- `SeniorCitizen` Apakah pelanggan adalah senior citizen atau bukan (1, 0)\n",
    "- `Partner` Apakah pelanggan memiliki Partner atau tidak (Yes, No)\n",
    "- `Dependents` Berisikan apakah pelanggan memiliki tanggungan atau tidak (Yes, No)\n",
    "- `tenure` lamanya pelangan telah tinggal di sebuah perusahaan dalam bulan\n",
    "- `PhoneService` Apakah Customer memiliki layanan telepon atau tidak (Yes, No)\n",
    "- `MultipleLines` Apakah Customer memiliki banyak jalur atau tidak (Yes, No, No phone service)\n",
    "- `InternetService` jenis Customer internet service provider (DSL, Fiber optic, No)\n",
    "- `OnlineSecurity` Apakah Customer memiliki keamanan online atau tidak (Yes, No, No internet service)\n",
    "- `OnlineBackup` Apakah pelanggan memiliki cadangan online atau tidak (Yes, No, No internet service)\n",
    "- `DeviceProtection` Apakah pelanggan memiliki perlindungan perangkat atau tidak (Yes, No, No internet service)\n",
    "- `TechSupport` apakah Customer memiliki tech support atau tidak (Yes, No, No internet service)\n",
    "- `StreamingTV` Apakah Customer memiliki streaming TV atau tidak (Yes, No, No internet service)\n",
    "- `StreamingMovies` Apakah Customer memiliki streaming movies atau tidak (Yes, No, No internet service)\n",
    "- `Contract` Jangka waktu kontrak (Month-to-month, One year, Two year)\n",
    "- `PaperlessBilling` Apakah Customer memiliki paperless billing atau tidak (Yes, No)\n",
    "- `PaymentMethod` Tmetode pembayaran yang dipilih customer (Electronic check, Mailed check, Bank transfer (automatic), Credit card (automatic))\n",
    "- `MonthlyCharges` Jumlah yang dibebankan ke pelanggan setiap bulan\n",
    "- `TotalCharges` Jumlah total yang dibebankan kepada pelanggan\n",
    "- `Churn` Apakah pelanggan tersebut curn atau tidak (Yes or No)\n",
    "\n"
   ]
  },
  {
   "cell_type": "code",
   "execution_count": 5,
   "metadata": {},
   "outputs": [
    {
     "name": "stdout",
     "output_type": "stream",
     "text": [
      "(7113, 22)\n",
      "   UpdatedAt   customerID  gender  SeniorCitizen Partner Dependents  tenure  \\\n",
      "0     202006  45759018157  Female              0     Yes         No     1.0   \n",
      "1     202006  45557574145    Male              0      No         No    34.0   \n",
      "2     202006  45366876421    Male              0      No         No     2.0   \n",
      "3     202006  45779536532    Male              0      No         No    45.0   \n",
      "4     202006  45923787906  Female              0      No         No     2.0   \n",
      "\n",
      "  PhoneService     MultipleLines InternetService OnlineSecurity OnlineBackup  \\\n",
      "0           No  No phone service             DSL             No          Yes   \n",
      "1          Yes                No             DSL            Yes           No   \n",
      "2          Yes                No             DSL            Yes          Yes   \n",
      "3           No  No phone service             DSL            Yes           No   \n",
      "4          Yes                No     Fiber optic             No           No   \n",
      "\n",
      "  DeviceProtection TechSupport StreamingTV StreamingMovies        Contract  \\\n",
      "0               No          No          No              No  Month-to-month   \n",
      "1              Yes          No          No              No        One year   \n",
      "2               No          No          No              No  Month-to-month   \n",
      "3              Yes         Yes          No              No        One year   \n",
      "4               No          No          No              No  Month-to-month   \n",
      "\n",
      "  PaperlessBilling              PaymentMethod  MonthlyCharges  TotalCharges  \\\n",
      "0              Yes           Electronic check           29.85         29.85   \n",
      "1               No               Mailed check           56.95       1889.50   \n",
      "2              Yes               Mailed check           53.85        108.15   \n",
      "3               No  Bank transfer (automatic)           42.30       1840.75   \n",
      "4              Yes           Electronic check           70.70        151.65   \n",
      "\n",
      "  Churn  \n",
      "0    No  \n",
      "1    No  \n",
      "2   Yes  \n",
      "3    No  \n",
      "4   Yes  \n",
      "7017\n"
     ]
    }
   ],
   "source": [
    "#Tampilkan jumlah baris dan kolom\n",
    "print(df.shape)\n",
    "\n",
    "#Tampilkan 5 data teratas\n",
    "print(df.head(5))\n",
    "\n",
    "#Jumlah ID yang unik\n",
    "print(df['customerID'].nunique())"
   ]
  },
  {
   "cell_type": "markdown",
   "metadata": {},
   "source": [
    "#  Memfilter ID Number Pelanggan Format Tertentu\n",
    "\n",
    "untuk mencari format ID Number(Phone Number) pelanggan harus memenuhi kriteria :\n",
    "\n",
    "- Panjang karakter adalah 11-12.\n",
    "- Terdiri dari Angka Saja, tidak diperbolehkan ada karakter selain angka\n",
    "- Diawali dengan angka 45 2 digit pertama.\n"
   ]
  },
  {
   "cell_type": "code",
   "execution_count": 6,
   "metadata": {},
   "outputs": [
    {
     "name": "stdout",
     "output_type": "stream",
     "text": [
      "Hasil jumlah ID Customer yang terfilter adalah 7006\n"
     ]
    }
   ],
   "source": [
    "df['valid_id'] = df['customerID'].astype(str).str.match(r'(45\\d{9,10})')\n",
    "df = (df[df['valid_id'] == True]).drop('valid_id', axis = 1)\n",
    "print('Hasil jumlah ID Customer yang terfilter adalah',df['customerID'].count())"
   ]
  },
  {
   "cell_type": "markdown",
   "metadata": {},
   "source": [
    "# Memfilter Duplikasi ID Number Pelanggan"
   ]
  },
  {
   "cell_type": "markdown",
   "metadata": {},
   "source": [
    "Memastikan bahwa tidak ada Id Number pelanggan yang duplikat. Biasanya duplikasi ID number ini tipenya:\n",
    "\n",
    "- Duplikasi dikarenakan inserting melebihi satu kali dengan nilai yang sama tiap kolomnya\n",
    "- Duplikasi dikarenakan inserting beda periode pengambilan data"
   ]
  },
  {
   "cell_type": "code",
   "execution_count": 19,
   "metadata": {},
   "outputs": [
    {
     "name": "stdout",
     "output_type": "stream",
     "text": [
      "Hasil jumlah ID Customer yang sudah dihilangkan duplikasinya (distinct) adalah 6993\n"
     ]
    }
   ],
   "source": [
    "# Drop Duplicate Rows\n",
    "df.drop_duplicates()\n",
    "# Drop duplicate ID sorted by Periode\n",
    "df = df.sort_values('UpdatedAt', ascending=False).drop_duplicates(['customerID'])\n",
    "print('Hasil jumlah ID Customer yang sudah dihilangkan duplikasinya (distinct) adalah',df['customerID'].count())"
   ]
  },
  {
   "cell_type": "markdown",
   "metadata": {},
   "source": [
    "# Mengatasi Missing Values dengan Penghapusan Rows"
   ]
  },
  {
   "cell_type": "markdown",
   "metadata": {},
   "source": [
    "Hal pertama yang harus kita lakuan adalah mendeteksi missing value pada data, agar kita bisa melihat keseluruhan data yang hilang dapat dilakukan dengan visualisasi missing value menggunakan fungsi `plot_missing_value()` dari library jcopml atau juga bisa menggunakan fungsi `isnull()`"
   ]
  },
  {
   "cell_type": "code",
   "execution_count": 15,
   "metadata": {},
   "outputs": [
    {
     "data": {
      "image/png": "[encoded data removed]",
      "text/plain": [
       "<Figure size 1080x432 with 1 Axes>"
      ]
     },
     "metadata": {
      "needs_background": "light"
     },
     "output_type": "display_data"
    }
   ],
   "source": [
    "plot_missing_value(df,figsize=(15,6))"
   ]
  },
  {
   "cell_type": "code",
   "execution_count": 20,
   "metadata": {},
   "outputs": [
    {
     "name": "stdout",
     "output_type": "stream",
     "text": [
      "\n",
      "Jumlah Missing Values masing-masing kolom, adalah:\n",
      "tenure              99\n",
      "Churn               43\n",
      "MonthlyCharges      26\n",
      "TotalCharges        15\n",
      "InternetService      0\n",
      "customerID           0\n",
      "gender               0\n",
      "SeniorCitizen        0\n",
      "Partner              0\n",
      "Dependents           0\n",
      "PhoneService         0\n",
      "MultipleLines        0\n",
      "OnlineSecurity       0\n",
      "OnlineBackup         0\n",
      "DeviceProtection     0\n",
      "TechSupport          0\n",
      "StreamingTV          0\n",
      "StreamingMovies      0\n",
      "Contract             0\n",
      "PaperlessBilling     0\n",
      "PaymentMethod        0\n",
      "UpdatedAt            0\n",
      "dtype: int64\n"
     ]
    }
   ],
   "source": [
    "print('\\nJumlah Missing Values masing-masing kolom, adalah:')\n",
    "print(df.isnull().sum().sort_values(ascending=False))"
   ]
  },
  {
   "cell_type": "code",
   "execution_count": 21,
   "metadata": {},
   "outputs": [
    {
     "name": "stdout",
     "output_type": "stream",
     "text": [
      "Total missing values data dari kolom Churn 43\n",
      "Total Rows dan kolom Data setelah dihapus data Missing Values adalah (6950, 22)\n"
     ]
    }
   ],
   "source": [
    "print('Total missing values data dari kolom Churn',df['Churn'].isnull().sum())\n",
    "# Dropping all Rows with spesific column (churn)\n",
    "df.dropna(subset=['Churn'],inplace=True)\n",
    "print('Total Rows dan kolom Data setelah dihapus data Missing Values adalah',df.shape)"
   ]
  },
  {
   "cell_type": "code",
   "execution_count": null,
   "metadata": {},
   "outputs": [],
   "source": [
    "from sklearn.impute import SimpleImputer"
   ]
  },
  {
   "cell_type": "code",
   "execution_count": null,
   "metadata": {},
   "outputs": [],
   "source": [
    "df_load.head()"
   ]
  },
  {
   "cell_type": "code",
   "execution_count": null,
   "metadata": {},
   "outputs": [],
   "source": [
    "df_load.tenure.describe()"
   ]
  },
  {
   "cell_type": "code",
   "execution_count": null,
   "metadata": {},
   "outputs": [],
   "source": [
    "# handling missing values Tenure fill with 11\n",
    "df['tenure'].fillna(11, inplace=True)"
   ]
  },
  {
   "cell_type": "code",
   "execution_count": 22,
   "metadata": {},
   "outputs": [
    {
     "name": "stdout",
     "output_type": "stream",
     "text": [
      "\n",
      "Jumlah Missing Values setelah di imputer datanya, adalah:\n",
      "Churn               0\n",
      "TotalCharges        0\n",
      "customerID          0\n",
      "gender              0\n",
      "SeniorCitizen       0\n",
      "Partner             0\n",
      "Dependents          0\n",
      "tenure              0\n",
      "PhoneService        0\n",
      "MultipleLines       0\n",
      "InternetService     0\n",
      "OnlineSecurity      0\n",
      "OnlineBackup        0\n",
      "DeviceProtection    0\n",
      "TechSupport         0\n",
      "StreamingTV         0\n",
      "StreamingMovies     0\n",
      "Contract            0\n",
      "PaperlessBilling    0\n",
      "PaymentMethod       0\n",
      "MonthlyCharges      0\n",
      "UpdatedAt           0\n",
      "dtype: int64\n"
     ]
    }
   ],
   "source": [
    "# Handling missing values num vars (except Tenure)\n",
    "for col_name in list(['tenure','MonthlyCharges','TotalCharges']):\n",
    "\tmedian = df[col_name].median()\n",
    "\tdf[col_name].fillna(median, inplace=True)\n",
    "\n",
    "print('\\nJumlah Missing Values setelah di imputer datanya, adalah:')\n",
    "print(df.isnull().sum().sort_values(ascending=False))"
   ]
  },
  {
   "cell_type": "markdown",
   "metadata": {},
   "source": [
    "# Mendeteksi adanya Outlier (Boxplot)"
   ]
  },
  {
   "cell_type": "markdown",
   "metadata": {},
   "source": [
    "Mendeteksi Pencilan dari suatu Nilai (Outlier) salah satunya bisa melihat plot dari data tersebut menggunakan Box Plot. Boxplot merupakan ringkasan distribusi sampel yang disajikan secara grafis yang bisa menggambarkan bentuk distribusi data (skewness), ukuran tendensi sentral dan ukuran penyebaran (keragaman) data pengamatan. package yang dapat digunakan untuk visualisasi data yaitu `matplotlib` dan `seaborn`"
   ]
  },
  {
   "cell_type": "code",
   "execution_count": 43,
   "metadata": {},
   "outputs": [
    {
     "name": "stdout",
     "output_type": "stream",
     "text": [
      "\n",
      "Persebaran data sebelum ditangani Outlier: \n",
      "            tenure  MonthlyCharges  TotalCharges\n",
      "count  6950.000000     6950.000000   6950.000000\n",
      "mean     32.747914       65.783741   2305.083460\n",
      "std      25.058407       50.457871   2578.651143\n",
      "min       0.000000        0.000000     19.000000\n",
      "25%       9.000000       36.462500    406.975000\n",
      "50%      30.000000       70.450000   1400.850000\n",
      "75%      55.000000       89.850000   3799.837500\n",
      "max     500.000000     2311.000000  80000.000000\n"
     ]
    },
    {
     "data": {
      "text/plain": [
       "<matplotlib.axes._subplots.AxesSubplot at 0x7f9ff95bc150>"
      ]
     },
     "execution_count": 43,
     "metadata": {},
     "output_type": "execute_result"
    },
    {
     "data": {
      "image/png": "[encoded data removed]",
      "text/plain": [
       "<Figure size 1080x288 with 3 Axes>"
      ]
     },
     "metadata": {
      "needs_background": "light"
     },
     "output_type": "display_data"
    }
   ],
   "source": [
    "print('\\nPersebaran data sebelum ditangani Outlier: ')\n",
    "print(df[['tenure','MonthlyCharges','TotalCharges']].describe())\n",
    "\n",
    "\n",
    "plt.figure(figsize=(15,4))\n",
    "plt.subplot(131)\n",
    "sns.boxplot(x=df['tenure'])\n",
    "\n",
    "plt.subplot(132)\n",
    "sns.boxplot(x=df['MonthlyCharges'])\n",
    "\n",
    "plt.subplot(133)\n",
    "sns.boxplot(x=df['TotalCharges'])\n"
   ]
  },
  {
   "cell_type": "markdown",
   "metadata": {},
   "source": [
    "# Mengatasi Outlier\n",
    "\n",
    "Setelah kita mengetahui variable mana saja yang terdapat pencilan (Outlier), selanjutnya kita akan atasi Outlier dengan menggunakan metode interquartile range (IQR)."
   ]
  },
  {
   "cell_type": "code",
   "execution_count": 44,
   "metadata": {},
   "outputs": [
    {
     "name": "stdout",
     "output_type": "stream",
     "text": [
      "Nilai Maximum dari masing-masing Variable adalah: \n",
      "tenure             124.00000\n",
      "MonthlyCharges     169.93125\n",
      "TotalCharges      8889.13125\n",
      "dtype: float64\n",
      "\n",
      "Nilai Minimum dari masing-masing Variable adalah: \n",
      "tenure             -60.00000\n",
      "MonthlyCharges     -43.61875\n",
      "TotalCharges     -4682.31875\n",
      "dtype: float64\n",
      "\n",
      "Persebaran data setelah ditangani Outlier: \n",
      "            tenure  MonthlyCharges  TotalCharges\n",
      "count  6950.000000     6950.000000   6950.000000\n",
      "mean     32.693813       64.992201   2286.058750\n",
      "std      24.447925       30.032040   2265.702553\n",
      "min       0.000000        0.000000     19.000000\n",
      "25%       9.000000       36.462500    406.975000\n",
      "50%      30.000000       70.450000   1400.850000\n",
      "75%      55.000000       89.850000   3799.837500\n",
      "max     124.000000      169.931250   8889.131250\n"
     ]
    }
   ],
   "source": [
    "Q1 = (df[['tenure','MonthlyCharges','TotalCharges']]).quantile(0.25)\n",
    "Q3 = (df[['tenure','MonthlyCharges','TotalCharges']]).quantile(0.75)\n",
    "\n",
    "IQR = Q3 - Q1\n",
    "maximum = Q3 +(1.5*IQR)\n",
    "print('Nilai Maximum dari masing-masing Variable adalah: ')\n",
    "print(maximum)\n",
    "minimum = Q1-(1.5*IQR)\n",
    "print('\\nNilai Minimum dari masing-masing Variable adalah: ')\n",
    "print(minimum)\n",
    "\n",
    "more_than = (df > maximum)\n",
    "lower_than = (df < minimum)\n",
    "df = df.mask(more_than, maximum, axis=1)\n",
    "df = df.mask(lower_than, minimum, axis=1)\n",
    "\n",
    "print('\\nPersebaran data setelah ditangani Outlier: ')\n",
    "print(df[['tenure','MonthlyCharges','TotalCharges']].describe())"
   ]
  },
  {
   "cell_type": "markdown",
   "metadata": {},
   "source": [
    "# Mendeteksi Nilai yang tidak Standar\n",
    "\n",
    "Mendeteksi apakah ada nilai-nilai dari variable kategorik yang tidak standard. Hal ini biasanya terjadi dikarenakan kesalahan input data. Perbedaan istilah menjadi salah satu faktor yang sering terjadi, untuk itu dibutuhkan standarisasi dari data yang sudah terinput.\n",
    "\n",
    "Gunakan fungsi `value_counts()` untuk melihat jumlah data unique per variable nya"
   ]
  },
  {
   "cell_type": "code",
   "execution_count": null,
   "metadata": {},
   "outputs": [],
   "source": [
    "df_load[:1]"
   ]
  },
  {
   "cell_type": "code",
   "execution_count": null,
   "metadata": {},
   "outputs": [],
   "source": [
    "df_load.columns"
   ]
  },
  {
   "cell_type": "code",
   "execution_count": 45,
   "metadata": {},
   "outputs": [],
   "source": [
    "cat_col = ['gender','SeniorCitizen','Partner','Dependents','PhoneService','MultipleLines','InternetService','OnlineSecurity','OnlineBackup','DeviceProtection','TechSupport','StreamingTV','StreamingMovies','Contract','PaperlessBilling','PaymentMethod','Churn']"
   ]
  },
  {
   "cell_type": "code",
   "execution_count": 47,
   "metadata": {},
   "outputs": [
    {
     "name": "stdout",
     "output_type": "stream",
     "text": [
      "\n",
      "Unique Values Count \u001b[1mBefore Standardized \u001b[0m Variable => gender\n",
      "Male         3499\n",
      "Female       3431\n",
      "Wanita         14\n",
      "Laki-Laki       6\n",
      "Name: gender, dtype: int64\n",
      "\n",
      "Unique Values Count \u001b[1mBefore Standardized \u001b[0m Variable => SeniorCitizen\n",
      "0    5822\n",
      "1    1128\n",
      "Name: SeniorCitizen, dtype: int64\n",
      "\n",
      "Unique Values Count \u001b[1mBefore Standardized \u001b[0m Variable => Partner\n",
      "No     3591\n",
      "Yes    3359\n",
      "Name: Partner, dtype: int64\n",
      "\n",
      "Unique Values Count \u001b[1mBefore Standardized \u001b[0m Variable => Dependents\n",
      "No     4870\n",
      "Yes    2060\n",
      "Iya      20\n",
      "Name: Dependents, dtype: int64\n",
      "\n",
      "Unique Values Count \u001b[1mBefore Standardized \u001b[0m Variable => PhoneService\n",
      "Yes    6281\n",
      "No      669\n",
      "Name: PhoneService, dtype: int64\n",
      "\n",
      "Unique Values Count \u001b[1mBefore Standardized \u001b[0m Variable => MultipleLines\n",
      "No                  3346\n",
      "Yes                 2935\n",
      "No phone service     669\n",
      "Name: MultipleLines, dtype: int64\n",
      "\n",
      "Unique Values Count \u001b[1mBefore Standardized \u001b[0m Variable => InternetService\n",
      "Fiber optic    3057\n",
      "DSL            2388\n",
      "No             1505\n",
      "Name: InternetService, dtype: int64\n",
      "\n",
      "Unique Values Count \u001b[1mBefore Standardized \u001b[0m Variable => OnlineSecurity\n",
      "No                     3454\n",
      "Yes                    1991\n",
      "No internet service    1505\n",
      "Name: OnlineSecurity, dtype: int64\n",
      "\n",
      "Unique Values Count \u001b[1mBefore Standardized \u001b[0m Variable => OnlineBackup\n",
      "No                     3045\n",
      "Yes                    2400\n",
      "No internet service    1505\n",
      "Name: OnlineBackup, dtype: int64\n",
      "\n",
      "Unique Values Count \u001b[1mBefore Standardized \u001b[0m Variable => DeviceProtection\n",
      "No                     3054\n",
      "Yes                    2391\n",
      "No internet service    1505\n",
      "Name: DeviceProtection, dtype: int64\n",
      "\n",
      "Unique Values Count \u001b[1mBefore Standardized \u001b[0m Variable => TechSupport\n",
      "No                     3431\n",
      "Yes                    2014\n",
      "No internet service    1505\n",
      "Name: TechSupport, dtype: int64\n",
      "\n",
      "Unique Values Count \u001b[1mBefore Standardized \u001b[0m Variable => StreamingTV\n",
      "No                     2774\n",
      "Yes                    2671\n",
      "No internet service    1505\n",
      "Name: StreamingTV, dtype: int64\n",
      "\n",
      "Unique Values Count \u001b[1mBefore Standardized \u001b[0m Variable => StreamingMovies\n",
      "No                     2747\n",
      "Yes                    2698\n",
      "No internet service    1505\n",
      "Name: StreamingMovies, dtype: int64\n",
      "\n",
      "Unique Values Count \u001b[1mBefore Standardized \u001b[0m Variable => Contract\n",
      "Month-to-month    3823\n",
      "Two year          1670\n",
      "One year          1457\n",
      "Name: Contract, dtype: int64\n",
      "\n",
      "Unique Values Count \u001b[1mBefore Standardized \u001b[0m Variable => PaperlessBilling\n",
      "Yes    4114\n",
      "No     2836\n",
      "Name: PaperlessBilling, dtype: int64\n",
      "\n",
      "Unique Values Count \u001b[1mBefore Standardized \u001b[0m Variable => PaymentMethod\n",
      "Electronic check             2337\n",
      "Mailed check                 1594\n",
      "Bank transfer (automatic)    1519\n",
      "Credit card (automatic)      1500\n",
      "Name: PaymentMethod, dtype: int64\n",
      "\n",
      "Unique Values Count \u001b[1mBefore Standardized \u001b[0m Variable => Churn\n",
      "No       5114\n",
      "Yes      1827\n",
      "Churn       9\n",
      "Name: Churn, dtype: int64\n"
     ]
    }
   ],
   "source": [
    "for col_name in list(cat_col):\n",
    "    print('\\nUnique Values Count \\033[1m' + 'Before Standardized \\033[0m Variable =>',col_name)\n",
    "    print(df[col_name].value_counts())"
   ]
  },
  {
   "cell_type": "markdown",
   "metadata": {},
   "source": [
    "# Menstandarisasi Variable Kategorik\n",
    "\n",
    "Setelah kita mengeteahui variable mana saja yang ada nilai tidak standar, maka kita standarkan dengan pola terbanyak nya, dengan syarat tanpa mengubah maknanya. Contoh : Iya -> Yes Kemudian liat kembali unique values dari masing-masing variable yang sudah di ubah. menggunakan fungsi `replace()` untuk menstandarkan nilai"
   ]
  },
  {
   "cell_type": "code",
   "execution_count": 48,
   "metadata": {},
   "outputs": [
    {
     "name": "stdout",
     "output_type": "stream",
     "text": [
      "\n",
      "Unique Values Count \u001b[1mAfter Standardized \u001b[0mVariable gender\n",
      "Male      3505\n",
      "Female    3445\n",
      "Name: gender, dtype: int64\n",
      "\n",
      "Unique Values Count \u001b[1mAfter Standardized \u001b[0mVariable Dependents\n",
      "No     4870\n",
      "Yes    2080\n",
      "Name: Dependents, dtype: int64\n",
      "\n",
      "Unique Values Count \u001b[1mAfter Standardized \u001b[0mVariable Churn\n",
      "No     5114\n",
      "Yes    1836\n",
      "Name: Churn, dtype: int64\n"
     ]
    }
   ],
   "source": [
    "df = df.replace(['Wanita','Laki-Laki','Churn','Iya'],['Female','Male','Yes','Yes'])\n",
    "\n",
    "# Masukkan variable\n",
    "for col_name in list(['gender','Dependents','Churn']):\n",
    "    print('\\nUnique Values Count \\033[1m' + 'After Standardized \\033[0mVariable',col_name)\n",
    "    print(df[col_name].value_counts())"
   ]
  },
  {
   "cell_type": "markdown",
   "metadata": {},
   "source": [
    "# Reference\n",
    "\n",
    "- Suyanto, D. (2017). Data Mining untuk klasifikasi dan klasterisasi data. Bandung: Informatika Bandung.\n"
   ]
  },
  {
   "cell_type": "code",
   "execution_count": null,
   "metadata": {},
   "outputs": [],
   "source": []
  },
  {
   "cell_type": "code",
   "execution_count": null,
   "metadata": {},
   "outputs": [],
   "source": []
  },
  {
   "cell_type": "code",
   "execution_count": null,
   "metadata": {},
   "outputs": [],
   "source": []
  }
 ],
 "metadata": {
  "kernelspec": {
   "display_name": "Python [conda env:jcopml]",
   "language": "python",
   "name": "conda-env-jcopml-py"
  },
  "language_info": {
   "codemirror_mode": {
    "name": "ipython",
    "version": 3
   },
   "file_extension": ".py",
   "mimetype": "text/x-python",
   "name": "python",
   "nbconvert_exporter": "python",
   "pygments_lexer": "ipython3",
   "version": "3.7.7"
  }
 },
 "nbformat": 4,
 "nbformat_minor": 4
}
