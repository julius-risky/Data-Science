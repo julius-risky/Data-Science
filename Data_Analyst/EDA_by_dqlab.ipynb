{
 "cells": [
  {
   "cell_type": "markdown",
   "metadata": {},
   "source": [
    "# Exploratory Data Analysis with Python for Beginner"
   ]
  },
  {
   "cell_type": "markdown",
   "metadata": {},
   "source": [
    "## 1. NUMPY\n",
    "Numpy berasal dari kata ‘Numerical Python’, sesuai namanya NumPy berfungsi sebagai library untuk melakukan proses komputasi numerik terutama dalam bentuk array multidimensional (1-Dimensi ataupun 2-Dimensi). Array merupakan kumpulan dari variabel yang memiliki tipe data yang sama. NumPy menyimpan data dalam bentuk arrays.\n"
   ]
  },
  {
   "cell_type": "markdown",
   "metadata": {},
   "source": [
    "## 2. PANDAS\n",
    "Pandas merupakan library yang memudahkan dalam melakukan manipulasi, cleansing maupun analisis struktur data. Dengan menggunakan Pandas, dapat memanfaatkan lima fitur utama dalam pemrosesan dan analisis data, yaitu load, prepare, manipulate, modelling, dan analysis data.\n",
    "\n",
    "Pandas menggunakan konsep array dari NumPy namun memberikan index kepada array tersebut, sehingga disebut series ataupun data frame. Sehingga bisa dikatakan Pandas menyimpan data dalam dictionary-based NumPy arrays. 1-Dimensi labelled array dinamakan sebagai Series. Sedangkan 2-Dimensi dinamakan sebagai Data Frame.\n"
   ]
  },
  {
   "cell_type": "markdown",
   "metadata": {},
   "source": [
    "## 3. SciPy\n",
    "Scipy dibangun untuk bekerja dengan array NumPy dan menyediakan banyak komputasi numerik yang ramah pengguna dan efisien seperti rutinitas untuk integrasi, diferensiasi dan optimasi numerik.\n",
    "\n",
    "Baik NumPy maupun SciPy berjalan pada semua operating system, cepat untuk diinstall dan gratis. NumPy dan SciPy mudah digunakan, tetapi cukup kuat untuk diandalkan oleh beberapa data scientist dan researcher terkemuka dunia."
   ]
  },
  {
   "cell_type": "markdown",
   "metadata": {},
   "source": [
    "## 4. Matplotlib\n",
    "Matplotlib merupakan library dari Python yang umum digunakan untuk visualisasi data. Matplotlib memiliki kapabilitas untuk membuat visualisasi data 2-dimensional. Contoh visualisasi yang dapat dibuat dengan menggunakan matplotlib diantaranya adalah\n",
    "\n",
    "   1. Line chart\n",
    "   2. Bar chart\n",
    "   3. Pie chart\n",
    "   4. Box plot chart\n",
    "   5. Violin chart\n",
    "   6. Errorbar chart\n",
    "   7. Scatter chart\n",
    "\n",
    "Jenis-jenis chart lainnya juga dapat dibuat melalui library ini.\n",
    "\n"
   ]
  },
  {
   "cell_type": "markdown",
   "metadata": {},
   "source": [
    "## -  Inspeksi struktur data frame\n",
    "Setelah melakukan proses loading dataframe ke dalam Python. Hal selanjutnya sebelum memulai analisis tentunya mengerti struktur dataset tersebut. Sehingga langkah selanjutnya dari pre - analisis biasanya dilakukan untuk\n",
    "\n",
    "   1. melihat struktur data frame,\n",
    "   2. melihat preview data dari dataframe tersebut, dan\n",
    "   3. membuat summary data sederhana dari dataset.\n",
    "   \n",
    "**1. Melihat struktur kolom dan baris dari data frame**\n",
    "   -  `Print(df.shape)`\n",
    "   \n",
    "**2. Melihat data**\n",
    "   - `df.head()`\n",
    "   - `df.tail()`\n",
    "   \n",
    "**3. statistika deskriptif**\n",
    "\n",
    "Statistik deskriptif atau summary dalam Python - Pandas, dapat diperoleh dengan menggunakan fungsi describe(), yaitu:\n",
    "\n",
    "`print(df.describe())`\n",
    "\n",
    "Function describe dapat memberikan informasi mengenai nilai rataan, standar deviasi dan IQR (interquartile range).\n",
    "Ketentuan umum:\n",
    "\n",
    "   - Secara umum function describe() akan secara otomatis mengabaikan kolom category dan hanya memberikan summary statistik untuk kolom berjenis numerik.\n",
    "   - Kita perlu menambahkan argument bernama include = \"all\" untuk mendapatkan summary statistik atau statistik deskriptif dari kolom numerik dan karakter.\n",
    "\n",
    "`print(df.describe(include=\"all\"))`\n",
    "\n",
    "Jika ingin mendapatkan summary statistik dari kolom yang tidak bernilai angka, maka aku dapat menambahkan command `include=[\"object\"]` pada syntax describe().\n",
    "\n",
    "`print(df.describe(include=[\"object\"]))`\n"
   ]
  }
 ],
 "metadata": {
  "kernelspec": {
   "display_name": "Python 3",
   "language": "python",
   "name": "python3"
  },
  "language_info": {
   "codemirror_mode": {
    "name": "ipython",
    "version": 3
   },
   "file_extension": ".py",
   "mimetype": "text/x-python",
   "name": "python",
   "nbconvert_exporter": "python",
   "pygments_lexer": "ipython3",
   "version": "3.7.7"
  }
 },
 "nbformat": 4,
 "nbformat_minor": 4
}
