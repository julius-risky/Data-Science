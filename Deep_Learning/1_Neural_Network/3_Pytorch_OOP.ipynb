{
 "cells": [
  {
   "cell_type": "markdown",
   "metadata": {},
   "source": [
    "# Pytorch NN Module"
   ]
  },
  {
   "cell_type": "code",
   "execution_count": 1,
   "metadata": {},
   "outputs": [],
   "source": [
    "import torch\n",
    "from torch import nn"
   ]
  },
  {
   "cell_type": "code",
   "execution_count": 3,
   "metadata": {},
   "outputs": [],
   "source": [
    "??nn.Module"
   ]
  },
  {
   "cell_type": "code",
   "execution_count": 4,
   "metadata": {},
   "outputs": [],
   "source": [
    "class CustomNN(nn.Module):\n",
    "    def __init__(self, input_size,output_size):\n",
    "        super().__init__()\n",
    "        self.fc =nn.Sequential(\n",
    "            nn.Linear(input_size,16),\n",
    "            nn.ReLU(),\n",
    "            nn.Linear(16,8),\n",
    "            nn.ReLU(),\n",
    "            nn.Linear(8, output_size),\n",
    "            nn.Sigmoid()\n",
    "        )\n",
    "        \n",
    "    def forward(self,x):\n",
    "        return self.fc(x)"
   ]
  },
  {
   "cell_type": "code",
   "execution_count": 6,
   "metadata": {},
   "outputs": [],
   "source": [
    "class FaceBiometric(nn.Module):\n",
    "    def __init__(self, input_size,output_size):\n",
    "        super().__init__()\n",
    "        self.fc =nn.Sequential(\n",
    "            nn.Linear(input_size,16),\n",
    "            nn.ReLU()\n",
    "        )\n",
    "        self.reg = nn.Linear(16,4)\n",
    "        self.clf =nn.Sequential(\n",
    "            nn.Linear(16,4),\n",
    "            nn.Sigmoid()\n",
    "        )\n",
    "    def forward(self,x):\n",
    "        x = self.fc(x)\n",
    "        pred_reg = self.reg(x)\n",
    "        pred_clf = self.clf(x)\n",
    "        return pred_reg, pred_clf"
   ]
  },
  {
   "cell_type": "code",
   "execution_count": 7,
   "metadata": {},
   "outputs": [],
   "source": [
    "model = CustomNN(7,1)"
   ]
  },
  {
   "cell_type": "code",
   "execution_count": 8,
   "metadata": {},
   "outputs": [],
   "source": [
    "contoh = torch.rand(100,7)"
   ]
  },
  {
   "cell_type": "code",
   "execution_count": 11,
   "metadata": {},
   "outputs": [
    {
     "data": {
      "text/plain": [
       "tensor([[0.5382],\n",
       "        [0.5415],\n",
       "        [0.5364],\n",
       "        [0.5281],\n",
       "        [0.5269],\n",
       "        [0.5301],\n",
       "        [0.5280],\n",
       "        [0.5290],\n",
       "        [0.5310],\n",
       "        [0.5215],\n",
       "        [0.5467],\n",
       "        [0.5439],\n",
       "        [0.5280],\n",
       "        [0.5440],\n",
       "        [0.5292],\n",
       "        [0.5414],\n",
       "        [0.5494],\n",
       "        [0.5332],\n",
       "        [0.5465],\n",
       "        [0.5245],\n",
       "        [0.5194],\n",
       "        [0.5165],\n",
       "        [0.5461],\n",
       "        [0.5556],\n",
       "        [0.5398],\n",
       "        [0.5396],\n",
       "        [0.5329],\n",
       "        [0.5429],\n",
       "        [0.5432],\n",
       "        [0.5184],\n",
       "        [0.5246],\n",
       "        [0.5369],\n",
       "        [0.5273],\n",
       "        [0.5436],\n",
       "        [0.5263],\n",
       "        [0.5412],\n",
       "        [0.5254],\n",
       "        [0.5464],\n",
       "        [0.5214],\n",
       "        [0.5267],\n",
       "        [0.5219],\n",
       "        [0.5332],\n",
       "        [0.5390],\n",
       "        [0.5202],\n",
       "        [0.5204],\n",
       "        [0.5526],\n",
       "        [0.5415],\n",
       "        [0.5488],\n",
       "        [0.5175],\n",
       "        [0.5381],\n",
       "        [0.5417],\n",
       "        [0.5409],\n",
       "        [0.5422],\n",
       "        [0.5295],\n",
       "        [0.5389],\n",
       "        [0.5378],\n",
       "        [0.5213],\n",
       "        [0.5343],\n",
       "        [0.5384],\n",
       "        [0.5356],\n",
       "        [0.5337],\n",
       "        [0.5354],\n",
       "        [0.5313],\n",
       "        [0.5338],\n",
       "        [0.5335],\n",
       "        [0.5549],\n",
       "        [0.5312],\n",
       "        [0.5292],\n",
       "        [0.5431],\n",
       "        [0.5256],\n",
       "        [0.5321],\n",
       "        [0.5468],\n",
       "        [0.5410],\n",
       "        [0.5309],\n",
       "        [0.5332],\n",
       "        [0.5330],\n",
       "        [0.5389],\n",
       "        [0.5351],\n",
       "        [0.5518],\n",
       "        [0.5314],\n",
       "        [0.5486],\n",
       "        [0.5133],\n",
       "        [0.5360],\n",
       "        [0.5330],\n",
       "        [0.5412],\n",
       "        [0.5253],\n",
       "        [0.5360],\n",
       "        [0.5324],\n",
       "        [0.5325],\n",
       "        [0.5164],\n",
       "        [0.5401],\n",
       "        [0.5346],\n",
       "        [0.5359],\n",
       "        [0.5433],\n",
       "        [0.5388],\n",
       "        [0.5393],\n",
       "        [0.5286],\n",
       "        [0.5297],\n",
       "        [0.5335],\n",
       "        [0.5275]], grad_fn=<SigmoidBackward>)"
      ]
     },
     "execution_count": 11,
     "metadata": {},
     "output_type": "execute_result"
    }
   ],
   "source": [
    "output = model.forward(contoh)\n",
    "output"
   ]
  },
  {
   "cell_type": "code",
   "execution_count": null,
   "metadata": {},
   "outputs": [],
   "source": []
  }
 ],
 "metadata": {
  "kernelspec": {
   "display_name": "Python [conda env:jcopdl]",
   "language": "python",
   "name": "conda-env-jcopdl-py"
  },
  "language_info": {
   "codemirror_mode": {
    "name": "ipython",
    "version": 3
   },
   "file_extension": ".py",
   "mimetype": "text/x-python",
   "name": "python",
   "nbconvert_exporter": "python",
   "pygments_lexer": "ipython3",
   "version": "3.7.6"
  }
 },
 "nbformat": 4,
 "nbformat_minor": 4
}
