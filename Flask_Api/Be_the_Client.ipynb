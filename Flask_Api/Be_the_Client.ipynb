{
 "cells": [
  {
   "cell_type": "code",
   "execution_count": 1,
   "metadata": {},
   "outputs": [],
   "source": [
    "import requests\n",
    "import pandas as pd"
   ]
  },
  {
   "cell_type": "markdown",
   "metadata": {},
   "source": [
    "berikut beberapa API gratis yang bisa kita pakai untuk belajar:\n",
    "- [Joke Api](https://github.com/15Dkatz/official_joke_api)\n",
    "  - Random joke:`https://official-joke-api.appspot.com/jokes/random`\n",
    "  - 10 random jokes: `https://official-joke-api.appspot.com/jokes/ten`\n",
    "- [Nama2Gender Api](https://genderize.io/)\n",
    "  - input nama : `https://api.genderize.io?name=peter`\n",
    "  - input negara : `https://api.genderize.io?name=peter&country_id=US`\n",
    "- [Public Holiday Api](https://date.nager.at/Api)\n",
    "- [xkcd comic API](https://xkcd.com/json.html)\n",
    "  - comic terbaru: `http://xkcd.com/info.0.json`\n",
    "  - comic ke-614 : `http://xkcd.com/614/info.0.json`"
   ]
  },
  {
   "cell_type": "markdown",
   "metadata": {},
   "source": [
    "# Get Request"
   ]
  },
  {
   "cell_type": "code",
   "execution_count": 2,
   "metadata": {},
   "outputs": [],
   "source": [
    "r = requests.get(\"https://official-joke-api.appspot.com/jokes/random\")"
   ]
  },
  {
   "cell_type": "code",
   "execution_count": 3,
   "metadata": {},
   "outputs": [
    {
     "data": {
      "text/plain": [
       "200"
      ]
     },
     "execution_count": 3,
     "metadata": {},
     "output_type": "execute_result"
    }
   ],
   "source": [
    "r.status_code"
   ]
  },
  {
   "cell_type": "code",
   "execution_count": 4,
   "metadata": {},
   "outputs": [
    {
     "data": {
      "text/plain": [
       "'{\"id\":219,\"type\":\"general\",\"setup\":\"What do you call a girl between two posts?\",\"punchline\":\"Annette.\"}'"
      ]
     },
     "execution_count": 4,
     "metadata": {},
     "output_type": "execute_result"
    }
   ],
   "source": [
    "r.text"
   ]
  },
  {
   "cell_type": "code",
   "execution_count": 5,
   "metadata": {},
   "outputs": [
    {
     "data": {
      "text/plain": [
       "{'id': 219,\n",
       " 'type': 'general',\n",
       " 'setup': 'What do you call a girl between two posts?',\n",
       " 'punchline': 'Annette.'}"
      ]
     },
     "execution_count": 5,
     "metadata": {},
     "output_type": "execute_result"
    }
   ],
   "source": [
    "r.json()"
   ]
  },
  {
   "cell_type": "markdown",
   "metadata": {},
   "source": [
    "# GET Request denga parameter"
   ]
  },
  {
   "cell_type": "code",
   "execution_count": 6,
   "metadata": {},
   "outputs": [],
   "source": [
    "r = requests.get(\"https://api.genderize.io\")"
   ]
  },
  {
   "cell_type": "code",
   "execution_count": 7,
   "metadata": {},
   "outputs": [
    {
     "data": {
      "text/plain": [
       "422"
      ]
     },
     "execution_count": 7,
     "metadata": {},
     "output_type": "execute_result"
    }
   ],
   "source": [
    "r.status_code"
   ]
  },
  {
   "cell_type": "markdown",
   "metadata": {},
   "source": [
    "HTTP Status Code\n",
    "\n",
    "   - 1 1xx Respon informasi\n",
    "   - 2 2xx Sukses\n",
    "   - 3 3xx Pengalihan\n",
    "   - 4 4xx Klien error\n",
    "   - 5 5xx Kesalahan Server"
   ]
  },
  {
   "cell_type": "code",
   "execution_count": 8,
   "metadata": {},
   "outputs": [
    {
     "data": {
      "text/plain": [
       "{'error': \"Missing 'name' parameter\"}"
      ]
     },
     "execution_count": 8,
     "metadata": {},
     "output_type": "execute_result"
    }
   ],
   "source": [
    "r.json()"
   ]
  },
  {
   "cell_type": "markdown",
   "metadata": {},
   "source": [
    "### Input parameter pakai ?"
   ]
  },
  {
   "cell_type": "code",
   "execution_count": 9,
   "metadata": {},
   "outputs": [
    {
     "data": {
      "text/plain": [
       "200"
      ]
     },
     "execution_count": 9,
     "metadata": {},
     "output_type": "execute_result"
    }
   ],
   "source": [
    "r = requests.get(\"https://api.genderize.io?name=juki\")\n",
    "r.status_code"
   ]
  },
  {
   "cell_type": "code",
   "execution_count": 10,
   "metadata": {},
   "outputs": [
    {
     "data": {
      "text/plain": [
       "{'name': 'juki', 'gender': 'male', 'probability': 0.71, 'count': 133}"
      ]
     },
     "execution_count": 10,
     "metadata": {},
     "output_type": "execute_result"
    }
   ],
   "source": [
    "r.json()"
   ]
  },
  {
   "cell_type": "markdown",
   "metadata": {},
   "source": [
    "### Input parameter pakai dictionary"
   ]
  },
  {
   "cell_type": "code",
   "execution_count": 11,
   "metadata": {},
   "outputs": [
    {
     "data": {
      "text/plain": [
       "200"
      ]
     },
     "execution_count": 11,
     "metadata": {},
     "output_type": "execute_result"
    }
   ],
   "source": [
    "params ={\n",
    "    \"name\":\"juki\",\n",
    "    \"country_id\":\"ID\"\n",
    "}\n",
    "r = requests.get(\"https://api.genderize.io\",params=params)\n",
    "r.status_code"
   ]
  },
  {
   "cell_type": "code",
   "execution_count": 12,
   "metadata": {},
   "outputs": [
    {
     "data": {
      "text/plain": [
       "{'name': 'juki',\n",
       " 'gender': 'male',\n",
       " 'probability': 1,\n",
       " 'count': 15,\n",
       " 'country_id': 'ID'}"
      ]
     },
     "execution_count": 12,
     "metadata": {},
     "output_type": "execute_result"
    }
   ],
   "source": [
    "r.json()"
   ]
  },
  {
   "cell_type": "markdown",
   "metadata": {},
   "source": [
    "# Case 1\n",
    "ekstract hari libur di indonesia tahun 2021 menggunakan [Public Holiday Api](https://date.nager.at/Api)"
   ]
  },
  {
   "cell_type": "code",
   "execution_count": 13,
   "metadata": {},
   "outputs": [
    {
     "data": {
      "text/plain": [
       "200"
      ]
     },
     "execution_count": 13,
     "metadata": {},
     "output_type": "execute_result"
    }
   ],
   "source": [
    "# params = {\n",
    "#     \"Year\":2021,\n",
    "#     \"CountryCode\":\"ID\"\n",
    "# }\n",
    "\n",
    "r =requests.get(\"https://date.nager.at/Api/v2/PublicHolidays/2021/ID\")\n",
    "r.status_code"
   ]
  },
  {
   "cell_type": "code",
   "execution_count": 14,
   "metadata": {},
   "outputs": [
    {
     "data": {
      "text/html": [
       "<div>\n",
       "<style scoped>\n",
       "    .dataframe tbody tr th:only-of-type {\n",
       "        vertical-align: middle;\n",
       "    }\n",
       "\n",
       "    .dataframe tbody tr th {\n",
       "        vertical-align: top;\n",
       "    }\n",
       "\n",
       "    .dataframe thead th {\n",
       "        text-align: right;\n",
       "    }\n",
       "</style>\n",
       "<table border=\"1\" class=\"dataframe\">\n",
       "  <thead>\n",
       "    <tr style=\"text-align: right;\">\n",
       "      <th></th>\n",
       "      <th>date</th>\n",
       "      <th>localName</th>\n",
       "      <th>name</th>\n",
       "      <th>countryCode</th>\n",
       "      <th>fixed</th>\n",
       "      <th>global</th>\n",
       "      <th>counties</th>\n",
       "      <th>launchYear</th>\n",
       "      <th>type</th>\n",
       "    </tr>\n",
       "  </thead>\n",
       "  <tbody>\n",
       "    <tr>\n",
       "      <th>0</th>\n",
       "      <td>2021-01-01</td>\n",
       "      <td>Tahun Baru Masehi</td>\n",
       "      <td>New Year's Day</td>\n",
       "      <td>ID</td>\n",
       "      <td>True</td>\n",
       "      <td>True</td>\n",
       "      <td>None</td>\n",
       "      <td>NaN</td>\n",
       "      <td>Public</td>\n",
       "    </tr>\n",
       "    <tr>\n",
       "      <th>1</th>\n",
       "      <td>2021-04-02</td>\n",
       "      <td>Wafat Isa Almasih</td>\n",
       "      <td>Good Friday</td>\n",
       "      <td>ID</td>\n",
       "      <td>False</td>\n",
       "      <td>True</td>\n",
       "      <td>None</td>\n",
       "      <td>NaN</td>\n",
       "      <td>Public</td>\n",
       "    </tr>\n",
       "    <tr>\n",
       "      <th>2</th>\n",
       "      <td>2021-04-04</td>\n",
       "      <td>Paskah</td>\n",
       "      <td>Easter Sunday</td>\n",
       "      <td>ID</td>\n",
       "      <td>False</td>\n",
       "      <td>True</td>\n",
       "      <td>None</td>\n",
       "      <td>NaN</td>\n",
       "      <td>Public</td>\n",
       "    </tr>\n",
       "    <tr>\n",
       "      <th>3</th>\n",
       "      <td>2021-05-01</td>\n",
       "      <td>Hari Buruh Internasional</td>\n",
       "      <td>Labour Day</td>\n",
       "      <td>ID</td>\n",
       "      <td>True</td>\n",
       "      <td>True</td>\n",
       "      <td>None</td>\n",
       "      <td>NaN</td>\n",
       "      <td>Public</td>\n",
       "    </tr>\n",
       "    <tr>\n",
       "      <th>4</th>\n",
       "      <td>2021-05-14</td>\n",
       "      <td>Kenaikan Isa Almasih</td>\n",
       "      <td>Ascension Day</td>\n",
       "      <td>ID</td>\n",
       "      <td>False</td>\n",
       "      <td>True</td>\n",
       "      <td>None</td>\n",
       "      <td>NaN</td>\n",
       "      <td>Public</td>\n",
       "    </tr>\n",
       "    <tr>\n",
       "      <th>5</th>\n",
       "      <td>2021-06-01</td>\n",
       "      <td>Hari Lahir Pancasila</td>\n",
       "      <td>Pancasila Day</td>\n",
       "      <td>ID</td>\n",
       "      <td>True</td>\n",
       "      <td>True</td>\n",
       "      <td>None</td>\n",
       "      <td>2017.0</td>\n",
       "      <td>Public</td>\n",
       "    </tr>\n",
       "    <tr>\n",
       "      <th>6</th>\n",
       "      <td>2021-08-17</td>\n",
       "      <td>Hari Ulang Tahun Kemerdekaan Republik Indonesia</td>\n",
       "      <td>Independence Day</td>\n",
       "      <td>ID</td>\n",
       "      <td>True</td>\n",
       "      <td>True</td>\n",
       "      <td>None</td>\n",
       "      <td>NaN</td>\n",
       "      <td>Public</td>\n",
       "    </tr>\n",
       "    <tr>\n",
       "      <th>7</th>\n",
       "      <td>2021-12-25</td>\n",
       "      <td>Hari Raya Natal</td>\n",
       "      <td>Christmas Day</td>\n",
       "      <td>ID</td>\n",
       "      <td>True</td>\n",
       "      <td>True</td>\n",
       "      <td>None</td>\n",
       "      <td>NaN</td>\n",
       "      <td>Public</td>\n",
       "    </tr>\n",
       "  </tbody>\n",
       "</table>\n",
       "</div>"
      ],
      "text/plain": [
       "         date                                        localName  \\\n",
       "0  2021-01-01                                Tahun Baru Masehi   \n",
       "1  2021-04-02                                Wafat Isa Almasih   \n",
       "2  2021-04-04                                           Paskah   \n",
       "3  2021-05-01                         Hari Buruh Internasional   \n",
       "4  2021-05-14                             Kenaikan Isa Almasih   \n",
       "5  2021-06-01                             Hari Lahir Pancasila   \n",
       "6  2021-08-17  Hari Ulang Tahun Kemerdekaan Republik Indonesia   \n",
       "7  2021-12-25                                  Hari Raya Natal   \n",
       "\n",
       "               name countryCode  fixed  global counties  launchYear    type  \n",
       "0    New Year's Day          ID   True    True     None         NaN  Public  \n",
       "1       Good Friday          ID  False    True     None         NaN  Public  \n",
       "2     Easter Sunday          ID  False    True     None         NaN  Public  \n",
       "3        Labour Day          ID   True    True     None         NaN  Public  \n",
       "4     Ascension Day          ID  False    True     None         NaN  Public  \n",
       "5     Pancasila Day          ID   True    True     None      2017.0  Public  \n",
       "6  Independence Day          ID   True    True     None         NaN  Public  \n",
       "7     Christmas Day          ID   True    True     None         NaN  Public  "
      ]
     },
     "execution_count": 14,
     "metadata": {},
     "output_type": "execute_result"
    }
   ],
   "source": [
    "pd.DataFrame(r.json())"
   ]
  },
  {
   "cell_type": "markdown",
   "metadata": {},
   "source": [
    "# Case 2: Zodiak\n",
    "\n",
    "1. [Random User generator API](https://randomuser.me)\n",
    "  - generate : `https://randomuser.me/api/`\n",
    "2. [Zodiak API](https://github.com/bachors/apiapi#tanggal-lahiran-pasaran-zodiak)\n",
    " - url: `https://script.google.com/macros/exec`"
   ]
  },
  {
   "cell_type": "markdown",
   "metadata": {},
   "source": [
    "#### Task 1"
   ]
  },
  {
   "cell_type": "code",
   "execution_count": 15,
   "metadata": {},
   "outputs": [
    {
     "data": {
      "text/plain": [
       "200"
      ]
     },
     "execution_count": 15,
     "metadata": {},
     "output_type": "execute_result"
    }
   ],
   "source": [
    "r = requests.get(\"https://randomuser.me/api/\")\n",
    "r.status_code"
   ]
  },
  {
   "cell_type": "code",
   "execution_count": 16,
   "metadata": {},
   "outputs": [
    {
     "data": {
      "text/plain": [
       "{'results': [{'gender': 'male',\n",
       "   'name': {'title': 'Mr', 'first': 'Jesse', 'last': 'Burns'},\n",
       "   'location': {'street': {'number': 8147, 'name': 'Kingsway'},\n",
       "    'city': 'Ripon',\n",
       "    'state': 'East Sussex',\n",
       "    'country': 'United Kingdom',\n",
       "    'postcode': 'RD1G 6RY',\n",
       "    'coordinates': {'latitude': '8.2827', 'longitude': '-120.2833'},\n",
       "    'timezone': {'offset': '-6:00',\n",
       "     'description': 'Central Time (US & Canada), Mexico City'}},\n",
       "   'email': 'jesse.burns@example.com',\n",
       "   'login': {'uuid': '713d5b5c-5b0a-484b-95de-ccbc7e8908f2',\n",
       "    'username': 'ticklishwolf822',\n",
       "    'password': 'eagle1',\n",
       "    'salt': 'vScOIsRu',\n",
       "    'md5': '91cd366cea2a9b6ad4f0835ba1c29445',\n",
       "    'sha1': '20a305974e6c771ce28be3bbb197482f85c91b8c',\n",
       "    'sha256': 'b4cc58d8d3a20bddd11d9f702b563fad86ad7c828aa2472e02557f7f1d08ee06'},\n",
       "   'dob': {'date': '1985-10-07T07:04:28.136Z', 'age': 36},\n",
       "   'registered': {'date': '2014-10-19T22:40:18.101Z', 'age': 7},\n",
       "   'phone': '016977 4202',\n",
       "   'cell': '0716-096-484',\n",
       "   'id': {'name': 'NINO', 'value': 'MP 66 19 87 A'},\n",
       "   'picture': {'large': 'https://randomuser.me/api/portraits/men/79.jpg',\n",
       "    'medium': 'https://randomuser.me/api/portraits/med/men/79.jpg',\n",
       "    'thumbnail': 'https://randomuser.me/api/portraits/thumb/men/79.jpg'},\n",
       "   'nat': 'GB'}],\n",
       " 'info': {'seed': '7c64f935affc1732',\n",
       "  'results': 1,\n",
       "  'page': 1,\n",
       "  'version': '1.3'}}"
      ]
     },
     "execution_count": 16,
     "metadata": {},
     "output_type": "execute_result"
    }
   ],
   "source": [
    "result = r.json()\n",
    "result"
   ]
  },
  {
   "cell_type": "markdown",
   "metadata": {},
   "source": [
    "#### Pharsing"
   ]
  },
  {
   "cell_type": "code",
   "execution_count": 17,
   "metadata": {},
   "outputs": [],
   "source": [
    "info = result[\"results\"][0]\n"
   ]
  },
  {
   "cell_type": "code",
   "execution_count": 18,
   "metadata": {},
   "outputs": [
    {
     "data": {
      "text/plain": [
       "'Jesse'"
      ]
     },
     "execution_count": 18,
     "metadata": {},
     "output_type": "execute_result"
    }
   ],
   "source": [
    "info[\"name\"][\"first\"]"
   ]
  },
  {
   "cell_type": "code",
   "execution_count": 19,
   "metadata": {},
   "outputs": [
    {
     "data": {
      "text/plain": [
       "{'born': '1985-10-07T07:04:28.136Z',\n",
       " 'gender': 'male',\n",
       " 'first_name': 'Jesse',\n",
       " 'last_name': 'Burns'}"
      ]
     },
     "execution_count": 19,
     "metadata": {},
     "output_type": "execute_result"
    }
   ],
   "source": [
    "biodata ={\n",
    "    \"born\":info[\"dob\"][\"date\"],\n",
    "    \"gender\":info[\"gender\"],\n",
    "    \"first_name\":info[\"name\"][\"first\"],\n",
    "    \"last_name\":info[\"name\"][\"last\"]\n",
    "}\n",
    "biodata"
   ]
  },
  {
   "cell_type": "code",
   "execution_count": 20,
   "metadata": {},
   "outputs": [
    {
     "data": {
      "text/plain": [
       "'07-10-1985'"
      ]
     },
     "execution_count": 20,
     "metadata": {},
     "output_type": "execute_result"
    }
   ],
   "source": [
    "from dateutil import parser\n",
    "date = parser.parse(biodata[\"born\"])\n",
    "date = date.strftime(\"%d-%m-%Y\")\n",
    "date"
   ]
  },
  {
   "cell_type": "markdown",
   "metadata": {},
   "source": [
    "# Post Request"
   ]
  },
  {
   "cell_type": "code",
   "execution_count": 21,
   "metadata": {},
   "outputs": [
    {
     "data": {
      "text/plain": [
       "200"
      ]
     },
     "execution_count": 21,
     "metadata": {},
     "output_type": "execute_result"
    }
   ],
   "source": [
    "data = {\n",
    "    \"email\": \"eve.holt@reqres.in\",\n",
    "    \"password\": \"cityslicka\"\n",
    "}\n",
    "\n",
    "requests.post('https://reqres.in/api/login', data =data)\n",
    "r.status_code"
   ]
  },
  {
   "cell_type": "code",
   "execution_count": 22,
   "metadata": {},
   "outputs": [
    {
     "data": {
      "text/plain": [
       "{'results': [{'gender': 'male',\n",
       "   'name': {'title': 'Mr', 'first': 'Jesse', 'last': 'Burns'},\n",
       "   'location': {'street': {'number': 8147, 'name': 'Kingsway'},\n",
       "    'city': 'Ripon',\n",
       "    'state': 'East Sussex',\n",
       "    'country': 'United Kingdom',\n",
       "    'postcode': 'RD1G 6RY',\n",
       "    'coordinates': {'latitude': '8.2827', 'longitude': '-120.2833'},\n",
       "    'timezone': {'offset': '-6:00',\n",
       "     'description': 'Central Time (US & Canada), Mexico City'}},\n",
       "   'email': 'jesse.burns@example.com',\n",
       "   'login': {'uuid': '713d5b5c-5b0a-484b-95de-ccbc7e8908f2',\n",
       "    'username': 'ticklishwolf822',\n",
       "    'password': 'eagle1',\n",
       "    'salt': 'vScOIsRu',\n",
       "    'md5': '91cd366cea2a9b6ad4f0835ba1c29445',\n",
       "    'sha1': '20a305974e6c771ce28be3bbb197482f85c91b8c',\n",
       "    'sha256': 'b4cc58d8d3a20bddd11d9f702b563fad86ad7c828aa2472e02557f7f1d08ee06'},\n",
       "   'dob': {'date': '1985-10-07T07:04:28.136Z', 'age': 36},\n",
       "   'registered': {'date': '2014-10-19T22:40:18.101Z', 'age': 7},\n",
       "   'phone': '016977 4202',\n",
       "   'cell': '0716-096-484',\n",
       "   'id': {'name': 'NINO', 'value': 'MP 66 19 87 A'},\n",
       "   'picture': {'large': 'https://randomuser.me/api/portraits/men/79.jpg',\n",
       "    'medium': 'https://randomuser.me/api/portraits/med/men/79.jpg',\n",
       "    'thumbnail': 'https://randomuser.me/api/portraits/thumb/men/79.jpg'},\n",
       "   'nat': 'GB'}],\n",
       " 'info': {'seed': '7c64f935affc1732',\n",
       "  'results': 1,\n",
       "  'page': 1,\n",
       "  'version': '1.3'}}"
      ]
     },
     "execution_count": 22,
     "metadata": {},
     "output_type": "execute_result"
    }
   ],
   "source": [
    "r.json()"
   ]
  }
 ],
 "metadata": {
  "kernelspec": {
   "display_name": "Python [conda env:jcopml]",
   "language": "python",
   "name": "conda-env-jcopml-py"
  },
  "language_info": {
   "codemirror_mode": {
    "name": "ipython",
    "version": 3
   },
   "file_extension": ".py",
   "mimetype": "text/x-python",
   "name": "python",
   "nbconvert_exporter": "python",
   "pygments_lexer": "ipython3",
   "version": "3.7.7"
  }
 },
 "nbformat": 4,
 "nbformat_minor": 4
}
