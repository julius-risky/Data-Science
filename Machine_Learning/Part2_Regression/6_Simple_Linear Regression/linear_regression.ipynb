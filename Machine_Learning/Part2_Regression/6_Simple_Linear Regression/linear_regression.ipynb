{
 "cells": [
  {
   "cell_type": "markdown",
   "metadata": {},
   "source": [
    "# Linear regression"
   ]
  },
  {
   "cell_type": "code",
   "execution_count": 1,
   "metadata": {},
   "outputs": [
    {
     "name": "stdout",
     "output_type": "stream",
     "text": [
      "Shape of X: (489, 3)\n",
      "Shape of y: (489,)\n",
      "Shape of X_train : (342, 3)\n",
      "Shape of y_train : (342,)\n",
      "Shape of X_test : (147, 3)\n",
      "Shape of y_test : (147,)\n"
     ]
    }
   ],
   "source": [
    "#load dataset\n",
    "import pandas as pd\n",
    "housing = pd.read_csv('https://dqlab-dataset.s3-ap-southeast-1.amazonaws.com/pythonTutorial/housing_boston.csv')\n",
    "#Data rescaling\n",
    "from sklearn import preprocessing\n",
    "data_scaler = preprocessing.MinMaxScaler(feature_range=(0,1))\n",
    "housing[['RM','LSTAT','PTRATIO','MEDV']] = data_scaler.fit_transform(housing[['RM','LSTAT','PTRATIO','MEDV']])\n",
    "# getting dependent and independent variables\n",
    "X = housing.drop(['MEDV'], axis = 1)\n",
    "y = housing['MEDV']\n",
    "# checking the shapes\n",
    "print('Shape of X:', X.shape)\n",
    "print('Shape of y:', y.shape)\n",
    "\n",
    "# splitting the data\n",
    "from sklearn.model_selection import train_test_split\n",
    "X_train, X_test, y_train, y_test = train_test_split(X, y, test_size =0.3 , random_state = 0)\n",
    "# checking the shapes  \n",
    "print('Shape of X_train :', X_train.shape)\n",
    "print('Shape of y_train :', y_train.shape)\n",
    "print('Shape of X_test :', X_test.shape)\n",
    "print('Shape of y_test :', y_test.shape)\n",
    "\n",
    "##import regressor from Scikit-Learn\n",
    "from sklearn.linear_model import LinearRegression\n",
    "# Call the regressor\n",
    "reg = LinearRegression()\n",
    "# Fit the regressor to the training data  \n",
    "reg = reg.fit(X_train,y_train)\n",
    "# Apply the regressor/model to the test data  \n",
    "y_pred = reg.predict(X_test)"
   ]
  },
  {
   "cell_type": "code",
   "execution_count": 6,
   "metadata": {},
   "outputs": [
    {
     "name": "stdout",
     "output_type": "stream",
     "text": [
      "Mean squared error of testing set: 0.010913024655841009\n",
      "Mean absolute error of testing set: 0.07789896103120689\n",
      "Root Mean Squared Error of testing set: 0.1044654232549747\n"
     ]
    },
    {
     "data": {
      "image/png": "[encoded data removed]",
      "text/plain": [
       "<Figure size 432x288 with 1 Axes>"
      ]
     },
     "metadata": {
      "needs_background": "light"
     },
     "output_type": "display_data"
    }
   ],
   "source": [
    "from sklearn.metrics import mean_squared_error, mean_absolute_error  \n",
    "import numpy as np\n",
    "import matplotlib.pyplot as plt \n",
    "\n",
    "#Calculating MSE, lower the value better it is. 0 means perfect prediction\n",
    "mse = mean_squared_error(y_test, y_pred)\n",
    "print('Mean squared error of testing set:', mse)\n",
    "#Calculating MAE\n",
    "mae = mean_absolute_error(y_test, y_pred)\n",
    "print('Mean absolute error of testing set:', mae)\n",
    "#Calculating RMSE\n",
    "rmse = np.sqrt(mse)\n",
    "print('Root Mean Squared Error of testing set:', rmse)\n",
    "\n",
    "#Plotting y_test dan y_pred\n",
    "plt.scatter(y_test, y_pred, c = 'green')\n",
    "plt.xlabel('Price Actual')\n",
    "plt.ylabel('Predicted value')\n",
    "plt.title('True value vs predicted value : Linear Regression')\n",
    "plt.show()"
   ]
  },
  {
   "cell_type": "code",
   "execution_count": 3,
   "metadata": {},
   "outputs": [
    {
     "data": {
      "text/plain": [
       "['Part1_Data_Preprocessing_udemy',\n",
       " 'Part2_Regression',\n",
       " '.ipynb_checkpoints',\n",
       " 'linear_regression.ipynb',\n",
       " 'ML_dqlab.ipynb']"
      ]
     },
     "execution_count": 3,
     "metadata": {},
     "output_type": "execute_result"
    }
   ],
   "source": []
  },
  {
   "cell_type": "code",
   "execution_count": null,
   "metadata": {},
   "outputs": [],
   "source": []
  }
 ],
 "metadata": {
  "kernelspec": {
   "display_name": "Python 3",
   "language": "python",
   "name": "python3"
  },
  "language_info": {
   "codemirror_mode": {
    "name": "ipython",
    "version": 3
   },
   "file_extension": ".py",
   "mimetype": "text/x-python",
   "name": "python",
   "nbconvert_exporter": "python",
   "pygments_lexer": "ipython3",
   "version": "3.7.6"
  }
 },
 "nbformat": 4,
 "nbformat_minor": 4
}
