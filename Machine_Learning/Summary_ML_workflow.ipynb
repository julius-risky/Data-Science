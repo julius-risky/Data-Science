{
 "cells": [
  {
   "cell_type": "code",
   "execution_count": 1,
   "metadata": {},
   "outputs": [],
   "source": [
    "#import library\n",
    "import pandas as pd\n",
    "import matplotlib.pyplot as plt\n",
    "from sklearn.model_selection import train_test_split\n",
    "from sklearn.pipeline import Pipeline\n",
    "from sklearn.preprocessing import MinMaxScaler, OneHotEncoder\n",
    "from sklearn.impute import SimpleImputer\n",
    "from sklearn.compose import ColumnTransformer\n",
    "from sklearn.neighbors import KNeighborsClassifier\n",
    "from sklearn.model_selection import GridSearchCV\n",
    "\n",
    "#import data\n",
    "df = pd.read_csv('/home/yulius/Latihan-Data-Science/Data/titanic.csv',index_col='PassengerId')\n",
    "df.drop(columns=[\"Name\",\"Ticket\",\"Age\",\"Cabin\"], inplace=True)"
   ]
  },
  {
   "cell_type": "code",
   "execution_count": 3,
   "metadata": {},
   "outputs": [
    {
     "name": "stdout",
     "output_type": "stream",
     "text": [
      "Fitting 3 folds for each of 100 candidates, totalling 300 fits\n"
     ]
    },
    {
     "name": "stderr",
     "output_type": "stream",
     "text": [
      "[Parallel(n_jobs=-1)]: Using backend LokyBackend with 4 concurrent workers.\n",
      "[Parallel(n_jobs=-1)]: Done 128 tasks      | elapsed:    2.4s\n"
     ]
    },
    {
     "name": "stdout",
     "output_type": "stream",
     "text": [
      "{'algo__n_neighbors': 21, 'algo__p': 1, 'algo__weights': 'uniform'}\n",
      "0.8174157303370787 0.7821229050279329\n"
     ]
    },
    {
     "name": "stderr",
     "output_type": "stream",
     "text": [
      "[Parallel(n_jobs=-1)]: Done 293 out of 300 | elapsed:    5.1s remaining:    0.1s\n",
      "[Parallel(n_jobs=-1)]: Done 300 out of 300 | elapsed:    5.1s finished\n"
     ]
    }
   ],
   "source": [
    "\n",
    "\n",
    "#data splitting\n",
    "X = df.drop(columns=\"Survived\") \n",
    "y = df['Survived']\n",
    "\n",
    "X_train , X_test, y_train, y_test = train_test_split(X,y, test_size=0.2,stratify=y, random_state=42)\n",
    "X_train.shape , X_test.shape, y_train.shape, y_test.shape\n",
    "\n",
    "#preprocessor\n",
    "numerical_pipeline = Pipeline([\n",
    "    (\"Imputer\",SimpleImputer(strategy=\"mean\")),\n",
    "    (\"Scaler\", MinMaxScaler())\n",
    "])\n",
    "\n",
    "categorcal_pipeline = Pipeline([\n",
    "    (\"Imputer\",SimpleImputer(strategy=\"most_frequent\")),\n",
    "    (\"onehotencoding\", OneHotEncoder())\n",
    "])\n",
    "\n",
    "preprocessor = ColumnTransformer([\n",
    "    (\"numeric\", numerical_pipeline,[\"SibSp\",\"Parch\",\"Fare\"]),\n",
    "    (\"Categorical\", categorcal_pipeline,[\"Sex\",\"Pclass\",\"Embarked\"])\n",
    "])\n",
    "\n",
    "#pipeline\n",
    "pipeline = Pipeline([\n",
    "    (\"Prep\",preprocessor),\n",
    "    (\"algo\",KNeighborsClassifier())\n",
    "])\n",
    "\n",
    "#parameter tuning\n",
    "parameter = {\n",
    "    \"algo__n_neighbors\": range(1,51,2),\n",
    "    \"algo__weights\":[\"uniform\",\"distance\"],\n",
    "    \"algo__p\":[1,2]\n",
    "}\n",
    "\n",
    "model = GridSearchCV(pipeline, parameter, cv=3,n_jobs=-1, verbose=1)\n",
    "model.fit(X_train,y_train)\n",
    "\n",
    "#evaluation\n",
    "print(model.best_params_)\n",
    "print(model.score(X_train,y_train),model.score(X_test,y_test))"
   ]
  },
  {
   "cell_type": "code",
   "execution_count": null,
   "metadata": {},
   "outputs": [],
   "source": []
  }
 ],
 "metadata": {
  "kernelspec": {
   "display_name": "Python 3",
   "language": "python",
   "name": "python3"
  },
  "language_info": {
   "codemirror_mode": {
    "name": "ipython",
    "version": 3
   },
   "file_extension": ".py",
   "mimetype": "text/x-python",
   "name": "python",
   "nbconvert_exporter": "python",
   "pygments_lexer": "ipython3",
   "version": "3.7.7"
  }
 },
 "nbformat": 4,
 "nbformat_minor": 4
}
